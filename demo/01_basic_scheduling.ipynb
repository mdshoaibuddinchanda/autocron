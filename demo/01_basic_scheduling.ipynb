{
 "cells": [
  {
   "cell_type": "markdown",
   "id": "7987edd1",
   "metadata": {},
   "source": [
    "# AutoCron Demo 1: Basic Scheduling\n",
    "\n",
    "This notebook demonstrates the basic scheduling features of AutoCron.\n",
    "\n",
    "## Features Covered:\n",
    "- Simple decorator-based scheduling\n",
    "- Interval-based scheduling (seconds, minutes, hours, days)\n",
    "- Cron expression scheduling\n",
    "- Scheduler class usage"
   ]
  },
  {
   "cell_type": "markdown",
   "id": "a88f4c81",
   "metadata": {},
   "source": [
    "## Setup"
   ]
  },
  {
   "cell_type": "code",
   "execution_count": null,
   "id": "88646f30",
   "metadata": {},
   "outputs": [],
   "source": [
    "# Install AutoCron if needed\n",
    "# !pip install autocron-scheduler\n",
    "\n",
    "from autocron import AutoCron, schedule\n",
    "from datetime import datetime\n",
    "import time"
   ]
  },
  {
   "cell_type": "markdown",
   "id": "5b36625b",
   "metadata": {},
   "source": [
    "## 1. Decorator-Based Scheduling\n",
    "\n",
    "The simplest way to schedule tasks using the `@schedule` decorator."
   ]
  },
  {
   "cell_type": "code",
   "execution_count": null,
   "id": "cd0dabe3",
   "metadata": {},
   "outputs": [],
   "source": [
    "@schedule(every='5s')\n",
    "def hello_world():\n",
    "    \"\"\"Runs every 5 seconds.\"\"\"\n",
    "    print(f\"[{datetime.now().strftime('%H:%M:%S')}] Hello from AutoCron!\")\n",
    "\n",
    "@schedule(every='10s')\n",
    "def fetch_data():\n",
    "    \"\"\"Simulates fetching data every 10 seconds.\"\"\"\n",
    "    print(f\"[{datetime.now().strftime('%H:%M:%S')}] Fetching data...\")\n",
    "    return \"Data fetched successfully\"\n",
    "\n",
    "print(\"✅ Tasks scheduled! They will run automatically.\")\n",
    "print(\"⏰ hello_world: every 5 seconds\")\n",
    "print(\"⏰ fetch_data: every 10 seconds\")"
   ]
  },
  {
   "cell_type": "markdown",
   "id": "43c69900",
   "metadata": {},
   "source": [
    "## 2. Interval-Based Scheduling\n",
    "\n",
    "Schedule tasks using human-readable intervals."
   ]
  },
  {
   "cell_type": "code",
   "execution_count": null,
   "id": "128c1836",
   "metadata": {},
   "outputs": [],
   "source": [
    "# Different interval formats\n",
    "\n",
    "@schedule(every='30s')  # Every 30 seconds\n",
    "def check_status():\n",
    "    print(f\"[{datetime.now().strftime('%H:%M:%S')}] Checking system status...\")\n",
    "\n",
    "@schedule(every='1m')   # Every 1 minute\n",
    "def backup_logs():\n",
    "    print(f\"[{datetime.now().strftime('%H:%M:%S')}] Backing up logs...\")\n",
    "\n",
    "@schedule(every='2h')   # Every 2 hours\n",
    "def cleanup_cache():\n",
    "    print(f\"[{datetime.now().strftime('%H:%M:%S')}] Cleaning cache...\")\n",
    "\n",
    "@schedule(every='1d')   # Every day\n",
    "def daily_report():\n",
    "    print(f\"[{datetime.now().strftime('%H:%M:%S')}] Generating daily report...\")\n",
    "\n",
    "print(\"✅ Interval-based tasks scheduled!\")\n",
    "print(\"📝 Supported intervals: s (seconds), m (minutes), h (hours), d (days)\")"
   ]
  },
  {
   "cell_type": "markdown",
   "id": "95588afc",
   "metadata": {},
   "source": [
    "## 3. Cron Expression Scheduling\n",
    "\n",
    "Use standard cron expressions for more precise scheduling."
   ]
  },
  {
   "cell_type": "code",
   "execution_count": null,
   "id": "6d5c6d2a",
   "metadata": {},
   "outputs": [],
   "source": [
    "# Cron expressions: minute hour day month weekday\n",
    "\n",
    "@schedule(cron='0 9 * * *')  # Every day at 9:00 AM\n",
    "def morning_task():\n",
    "    print(f\"[{datetime.now().strftime('%H:%M:%S')}] Good morning! Starting daily tasks...\")\n",
    "\n",
    "@schedule(cron='*/15 * * * *')  # Every 15 minutes\n",
    "def periodic_check():\n",
    "    print(f\"[{datetime.now().strftime('%H:%M:%S')}] Running periodic check...\")\n",
    "\n",
    "@schedule(cron='0 12 * * 1-5')  # Weekdays at noon\n",
    "def lunch_reminder():\n",
    "    print(f\"[{datetime.now().strftime('%H:%M:%S')}] Time for lunch! 🍽️\")\n",
    "\n",
    "@schedule(cron='0 0 * * 0')  # Every Sunday at midnight\n",
    "def weekly_report():\n",
    "    print(f\"[{datetime.now().strftime('%H:%M:%S')}] Generating weekly report...\")\n",
    "\n",
    "print(\"✅ Cron-based tasks scheduled!\")\n",
    "print(\"📝 Cron format: minute hour day month weekday\")"
   ]
  },
  {
   "cell_type": "markdown",
   "id": "8fa9971a",
   "metadata": {},
   "source": [
    "## 4. Using the Scheduler Class\n",
    "\n",
    "For more control, use the `AutoCron` class directly."
   ]
  },
  {
   "cell_type": "code",
   "execution_count": null,
   "id": "08c5c78b",
   "metadata": {},
   "outputs": [],
   "source": [
    "# Create a scheduler instance\n",
    "scheduler = AutoCron()\n",
    "\n",
    "# Define tasks as regular functions\n",
    "def process_queue():\n",
    "    print(f\"[{datetime.now().strftime('%H:%M:%S')}] Processing queue...\")\n",
    "    return \"Queue processed\"\n",
    "\n",
    "def send_notifications():\n",
    "    print(f\"[{datetime.now().strftime('%H:%M:%S')}] Sending notifications...\")\n",
    "    return \"Notifications sent\"\n",
    "\n",
    "# Add tasks to scheduler\n",
    "scheduler.add_task(\n",
    "    name=\"queue_processor\",\n",
    "    func=process_queue,\n",
    "    every='15s'\n",
    ")\n",
    "\n",
    "scheduler.add_task(\n",
    "    name=\"notification_sender\",\n",
    "    func=send_notifications,\n",
    "    cron='*/30 * * * *'  # Every 30 minutes\n",
    ")\n",
    "\n",
    "print(\"✅ Tasks added to scheduler!\")\n",
    "print(f\"📊 Total tasks: {len(scheduler.tasks)}\")"
   ]
  },
  {
   "cell_type": "markdown",
   "id": "f18bd0d3",
   "metadata": {},
   "source": [
    "## 5. Running the Scheduler\n",
    "\n",
    "Start the scheduler to execute tasks (runs for 30 seconds in this demo)."
   ]
  },
  {
   "cell_type": "code",
   "execution_count": null,
   "id": "a4aca746",
   "metadata": {},
   "outputs": [],
   "source": [
    "# Start the scheduler in a separate thread for demo\n",
    "import threading\n",
    "\n",
    "# Create a simple scheduler for demo\n",
    "demo_scheduler = AutoCron()\n",
    "\n",
    "def demo_task():\n",
    "    print(f\"[{datetime.now().strftime('%H:%M:%S')}] ✨ Demo task executed!\")\n",
    "\n",
    "demo_scheduler.add_task(\n",
    "    name=\"demo_task\",\n",
    "    func=demo_task,\n",
    "    every='3s'\n",
    ")\n",
    "\n",
    "print(\"🚀 Starting scheduler for 30 seconds...\\n\")\n",
    "\n",
    "# Start in background\n",
    "scheduler_thread = threading.Thread(target=demo_scheduler.start, daemon=True)\n",
    "scheduler_thread.start()\n",
    "\n",
    "# Run for 30 seconds\n",
    "time.sleep(30)\n",
    "\n",
    "print(\"\\n⏹️  Demo complete! Scheduler stopped.\")"
   ]
  },
  {
   "cell_type": "markdown",
   "id": "b00030ea",
   "metadata": {},
   "source": [
    "## 6. Task Information\n",
    "\n",
    "Get information about scheduled tasks."
   ]
  },
  {
   "cell_type": "code",
   "execution_count": null,
   "id": "9778ded1",
   "metadata": {},
   "outputs": [],
   "source": [
    "# Create scheduler with multiple tasks\n",
    "info_scheduler = AutoCron()\n",
    "\n",
    "info_scheduler.add_task(name=\"task1\", func=lambda: print(\"Task 1\"), every='5s')\n",
    "info_scheduler.add_task(name=\"task2\", func=lambda: print(\"Task 2\"), every='10s')\n",
    "info_scheduler.add_task(name=\"task3\", func=lambda: print(\"Task 3\"), cron='*/5 * * * *')\n",
    "\n",
    "# List all tasks\n",
    "print(\"📋 Scheduled Tasks:\\n\")\n",
    "for i, task in enumerate(info_scheduler.tasks, 1):\n",
    "    print(f\"{i}. {task.name}\")\n",
    "    print(f\"   Schedule: {task.schedule}\")\n",
    "    print(f\"   Enabled: {task.enabled}\")\n",
    "    print()"
   ]
  },
  {
   "cell_type": "markdown",
   "id": "e235f8d9",
   "metadata": {},
   "source": [
    "## Summary\n",
    "\n",
    "In this demo, you learned:\n",
    "\n",
    "✅ **Decorator-based scheduling** - Simplest way using `@schedule`\n",
    "\n",
    "✅ **Interval scheduling** - Human-readable: `5s`, `10m`, `2h`, `1d`\n",
    "\n",
    "✅ **Cron expressions** - Precise timing: `0 9 * * *`, `*/15 * * * *`\n",
    "\n",
    "✅ **Scheduler class** - Full control with `AutoCron()`\n",
    "\n",
    "✅ **Task management** - Add, list, and monitor tasks\n",
    "\n",
    "### Next Steps:\n",
    "- Check out `02_advanced_features.ipynb` for retries, timeouts, and priorities\n",
    "- See `03_async_tasks.ipynb` for async/await support\n",
    "- Explore `04_persistence.ipynb` for saving and loading tasks"
   ]
  }
 ],
 "metadata": {
  "language_info": {
   "name": "python"
  }
 },
 "nbformat": 4,
 "nbformat_minor": 5
}
